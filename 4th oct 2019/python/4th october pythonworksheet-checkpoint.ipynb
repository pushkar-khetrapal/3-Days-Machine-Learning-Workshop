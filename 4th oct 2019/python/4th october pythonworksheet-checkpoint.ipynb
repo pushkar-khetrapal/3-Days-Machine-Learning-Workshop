{
 "cells": [
  {
   "cell_type": "markdown",
   "metadata": {},
   "source": [
    "# LISTS\n"
   ]
  },
  {
   "cell_type": "markdown",
   "metadata": {},
   "source": [
    "## Lists consist of items separated by commas and enclosed with square bracket ([ ])"
   ]
  },
  {
   "cell_type": "markdown",
   "metadata": {},
   "source": [
    "############ list ###############\n",
    "list is a dynamic array\n",
    "syntax :\n",
    "mylist = [] # empty list, we can add any element in this list\n",
    "\n",
    "\n",
    "copy these statements to below cell :-\n",
    "#################################\n",
    "mylist = [0,1,2,3,4,5,6,7,8,9]\n",
    "mylist\n",
    "#################################"
   ]
  },
  {
   "cell_type": "code",
   "execution_count": 1,
   "metadata": {},
   "outputs": [],
   "source": [
    "### paste here###"
   ]
  },
  {
   "cell_type": "markdown",
   "metadata": {},
   "source": [
    "## append function"
   ]
  },
  {
   "cell_type": "markdown",
   "metadata": {},
   "source": [
    "######## HOW TO ADD ELEMENT INTO LIST AT LAST POSITION USING APPEND FUNCTION ####\n",
    "syntax:-listname.append(element)\n",
    "\n",
    "\n",
    "\n",
    "copy these statements to below cell :-\n",
    "#################################\n",
    "mylist=[1,2,3,\"raj\"]\n",
    "mylist.append(99)\n",
    "print(mylist)\n",
    "#################################"
   ]
  },
  {
   "cell_type": "code",
   "execution_count": 2,
   "metadata": {},
   "outputs": [],
   "source": [
    "####paste here##"
   ]
  },
  {
   "cell_type": "code",
   "execution_count": null,
   "metadata": {},
   "outputs": [],
   "source": []
  },
  {
   "cell_type": "code",
   "execution_count": null,
   "metadata": {},
   "outputs": [],
   "source": []
  },
  {
   "cell_type": "markdown",
   "metadata": {},
   "source": [
    "# Tuples"
   ]
  },
  {
   "cell_type": "markdown",
   "metadata": {},
   "source": [
    "## Tuples consist of items separated by commas and enclosed with angular bracket ( )"
   ]
  },
  {
   "cell_type": "markdown",
   "metadata": {},
   "source": [
    "############ tuple ###############\n",
    "\n",
    "syntax :\n",
    "mytuple = () # empty tuple, we can add any element in this tuple\n",
    "\n",
    "\n",
    "copy these statements to below cell :-\n",
    "#################################\n",
    "mytuple= (0,1,\"para\",1.12)\n",
    "mytuple\n",
    "#################################"
   ]
  },
  {
   "cell_type": "code",
   "execution_count": 5,
   "metadata": {},
   "outputs": [],
   "source": [
    "## paste here##"
   ]
  },
  {
   "cell_type": "code",
   "execution_count": null,
   "metadata": {},
   "outputs": [],
   "source": []
  },
  {
   "cell_type": "markdown",
   "metadata": {},
   "source": [
    "## count function"
   ]
  },
  {
   "cell_type": "markdown",
   "metadata": {},
   "source": [
    "######## HOW TO count number of times element present in tuple ####\n",
    "syntax:-tuplename.count(element)\n",
    "\n",
    "\n",
    "\n",
    "copy these statements to below cell :-\n",
    "#################################\n",
    "mytuple=(1,2,3,\"raj\",5,6,8)\n",
    "print(mytuple.count(2))\n",
    "\n",
    "#################################"
   ]
  },
  {
   "cell_type": "code",
   "execution_count": 6,
   "metadata": {},
   "outputs": [],
   "source": [
    "### paste here"
   ]
  },
  {
   "cell_type": "code",
   "execution_count": null,
   "metadata": {},
   "outputs": [],
   "source": []
  },
  {
   "cell_type": "markdown",
   "metadata": {},
   "source": [
    "# DICTIONARY"
   ]
  },
  {
   "cell_type": "markdown",
   "metadata": {},
   "source": [
    "## Dictionaries are key-value pairs which are enclosed with curly braces( { } )"
   ]
  },
  {
   "cell_type": "markdown",
   "metadata": {},
   "source": [
    "############ Dictionary ###############\n",
    "\n",
    "syntax :\n",
    "mydict ={\"key1\":\"value1\",\"key2\":\"value2\",\"key3\":\"value3\"}\n",
    "\n",
    "copy these statements to below cell :-\n",
    "#################################\n",
    "mydict={\"mango\":80,\"apple\":60,\"orange\":70}\n",
    "mydict\n",
    "#################################"
   ]
  },
  {
   "cell_type": "code",
   "execution_count": 1,
   "metadata": {},
   "outputs": [],
   "source": [
    "## paste here##"
   ]
  },
  {
   "cell_type": "code",
   "execution_count": null,
   "metadata": {},
   "outputs": [],
   "source": []
  },
  {
   "cell_type": "markdown",
   "metadata": {},
   "source": [
    "# Indexing in dictionary"
   ]
  },
  {
   "cell_type": "markdown",
   "metadata": {},
   "source": [
    "## indexing is used to grab a particular value of a key"
   ]
  },
  {
   "cell_type": "markdown",
   "metadata": {},
   "source": [
    "syntax :\n",
    "mydict ={\"key1\":\"value1\",\"key2\":\"value2\",\"key3\":\"value3\"}\n",
    "\n",
    "copy these statements to below cell :-\n",
    "#################################\n",
    "mydict={\"mango\":80,\"apple\":60,\"orange\":70}\n",
    "mydict[\"mango\"]\n",
    "#################################"
   ]
  },
  {
   "cell_type": "code",
   "execution_count": 12,
   "metadata": {},
   "outputs": [],
   "source": [
    "## paste here"
   ]
  },
  {
   "cell_type": "markdown",
   "metadata": {},
   "source": [
    "# if else and elif "
   ]
  },
  {
   "cell_type": "markdown",
   "metadata": {},
   "source": [
    "## syntax"
   ]
  },
  {
   "cell_type": "markdown",
   "metadata": {},
   "source": [
    "If  some_condition:\n",
    "    execute some code\n",
    "Elif  some_other_condition:\n",
    "    Do something different\n",
    "\n",
    "Else\n",
    "    Do something different\n",
    "    \n",
    "\n",
    "copy these statements to below cell :-\n",
    "#################################\n",
    "\n",
    "location=\"bank\"\n",
    "if location==\"bank\":\n",
    "    print(\"money is cool\")\n",
    "elif location==\"cars\":\n",
    "    print(\"cars are cool\")\n",
    "else:\n",
    "    print(\"i do not know much\")\n",
    "#################################"
   ]
  },
  {
   "cell_type": "code",
   "execution_count": 14,
   "metadata": {},
   "outputs": [],
   "source": [
    "## paste here"
   ]
  },
  {
   "cell_type": "markdown",
   "metadata": {},
   "source": [
    "# for loop"
   ]
  },
  {
   "cell_type": "markdown",
   "metadata": {},
   "source": [
    "## syntax"
   ]
  },
  {
   "cell_type": "markdown",
   "metadata": {},
   "source": [
    "My_iterable=[1,2,3]\n",
    "For item_name in my_iterable:\n",
    "print(item_name)\n",
    "\n",
    "copy these statements to below cell :-\n",
    "#################################\n",
    "for e in mylist:\n",
    "    if e%2==0:\n",
    "        print(e)\n",
    "#################################\n"
   ]
  },
  {
   "cell_type": "code",
   "execution_count": 15,
   "metadata": {},
   "outputs": [],
   "source": [
    "# paste here"
   ]
  },
  {
   "cell_type": "markdown",
   "metadata": {},
   "source": [
    "# while loop"
   ]
  },
  {
   "cell_type": "markdown",
   "metadata": {},
   "source": [
    "###### while loop###\n",
    "syntax:\n",
    "    while some_boolean_condition:\n",
    "       do something\n",
    "      \n",
    "      \n",
    "####### copy these statements to below cell#####\n",
    "\n",
    "x=0\n",
    "while x<5:\n",
    "    print(x)\n",
    "    x=x+1\n",
    "    \n",
    "########\n",
    "       "
   ]
  },
  {
   "cell_type": "code",
   "execution_count": 5,
   "metadata": {},
   "outputs": [],
   "source": [
    "#### paste here"
   ]
  },
  {
   "cell_type": "code",
   "execution_count": null,
   "metadata": {},
   "outputs": [],
   "source": []
  },
  {
   "cell_type": "markdown",
   "metadata": {},
   "source": [
    "# functions"
   ]
  },
  {
   "attachments": {},
   "cell_type": "markdown",
   "metadata": {},
   "source": [
    "## Functions allow us to create block of code that can be easily executed many times,without rewriting the entire block of code!"
   ]
  },
  {
   "attachments": {},
   "cell_type": "markdown",
   "metadata": {},
   "source": [
    "    ############ FUNCTIONS ###############\n",
    "\n",
    "syntax :\n",
    "def name_of_function(argument):\n",
    "\n",
    "     Return  “hello”+argument\n",
    "\n",
    ">> m=name_of _function(“jose”) \n",
    "Print(m)\n",
    "Hello jose\n",
    "\n",
    "\n",
    "copy these statements to below cell :-\n",
    "#################################\n",
    "\n",
    "def add(num1,num2):\n",
    "  \n",
    "    \n",
    "    return num1+num2\n",
    "\n",
    "result=add(1,2)\n",
    "print(result)\n",
    "\n",
    "#################################"
   ]
  },
  {
   "cell_type": "code",
   "execution_count": 2,
   "metadata": {},
   "outputs": [],
   "source": [
    "### paste here"
   ]
  },
  {
   "cell_type": "markdown",
   "metadata": {},
   "source": [
    "- Example 2"
   ]
  },
  {
   "cell_type": "markdown",
   "metadata": {},
   "source": [
    "#### copy these statements in the below cell\n",
    "def dog_check(mystring):\n",
    "    if \"dog\" in mystring:\n",
    "        return True\n",
    "    else:\n",
    "        return False\n",
    "    \n",
    "dog_check(\"param\")\n"
   ]
  },
  {
   "cell_type": "code",
   "execution_count": 4,
   "metadata": {},
   "outputs": [],
   "source": [
    "### paste here"
   ]
  },
  {
   "cell_type": "code",
   "execution_count": null,
   "metadata": {},
   "outputs": [],
   "source": []
  }
 ],
 "metadata": {
  "kernelspec": {
   "display_name": "Python 3",
   "language": "python",
   "name": "python3"
  },
  "language_info": {
   "codemirror_mode": {
    "name": "ipython",
    "version": 3
   },
   "file_extension": ".py",
   "mimetype": "text/x-python",
   "name": "python",
   "nbconvert_exporter": "python",
   "pygments_lexer": "ipython3",
   "version": "3.7.3"
  }
 },
 "nbformat": 4,
 "nbformat_minor": 2
}
