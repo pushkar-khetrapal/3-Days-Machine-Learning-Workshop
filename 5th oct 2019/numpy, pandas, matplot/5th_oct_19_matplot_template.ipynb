{
 "cells": [
  {
   "cell_type": "markdown",
   "metadata": {},
   "source": [
    "## Matplot \n",
    "### importing library\n",
    "import matplotlib.pyplot as plt\n",
    "<br>\n",
    "%matplotlib inline"
   ]
  },
  {
   "cell_type": "code",
   "execution_count": null,
   "metadata": {},
   "outputs": [],
   "source": [
    "#copy here"
   ]
  },
  {
   "cell_type": "markdown",
   "metadata": {},
   "source": [
    "# Plot using matplot\n",
    "\n",
    "years = [1983, 1984, 1985, 1986, 1987]\n",
    "<br>\n",
    "total_populations = [8939007, 8954518, 8960387, 8956741, 8943721]\n",
    "<br>\n",
    "plt.plot(years, total_populations)\n",
    "<br>\n",
    "plt.title(\"Year vs Population in Bulgaria\")\n",
    "<br>\n",
    "plt.xlabel(\"Year\")\n",
    "<br>\n",
    "plt.ylabel(\"Total Population\")\n",
    "<br>\n",
    "plt.show()\n",
    "<br>\n",
    "## years and total_population is list\n",
    "## plt.plot is function of matplotlib to plot a line\n",
    "## plt.title is used to give title and plt.xlabel and ylabel are used for labeling x axis and y axis\n",
    "## plt.show is used to show plot"
   ]
  },
  {
   "cell_type": "code",
   "execution_count": null,
   "metadata": {},
   "outputs": [],
   "source": [
    "# copy here"
   ]
  },
  {
   "cell_type": "markdown",
   "metadata": {},
   "source": [
    "## scatter plot\n",
    "temp = [30, 32, 33, 28.5, 35, 29, 29]\n",
    "<br>\n",
    "ice_creams_count = [100, 115, 115, 75, 125, 79, 89]\n",
    "<br>\n",
    "plt.scatter(temp, ice_creams_count)\n",
    "<br>\n",
    "plt.title(\"Temperature vs. Sold ice creams\")\n",
    "<br>\n",
    "plt.xlabel(\"Temperature\")\n",
    "<br>\n",
    "plt.ylabel(\"Sold ice creams count\")\n",
    "<br>\n",
    "plt.show()"
   ]
  },
  {
   "cell_type": "code",
   "execution_count": null,
   "metadata": {},
   "outputs": [],
   "source": [
    "#copy here"
   ]
  },
  {
   "cell_type": "markdown",
   "metadata": {},
   "source": [
    "## histogram\n",
    "numbers = [0.1, 0.5, 1, 1.5, 2, 4, 5.5, 6, 8, 9]\n",
    "<br>\n",
    "plt.hist(numbers, bins = 3)\n",
    "<br>\n",
    "plt.xlabel(\"Number\")\n",
    "<br>\n",
    "plt.ylabel(\"Frequency\")\n",
    "<br>\n",
    "plt.show()\n",
    "### The intervals are also called bins. The bins are consecutive and non-overlapping intervals of a variable. "
   ]
  },
  {
   "cell_type": "code",
   "execution_count": null,
   "metadata": {},
   "outputs": [],
   "source": [
    "#copy here"
   ]
  },
  {
   "cell_type": "markdown",
   "metadata": {},
   "source": [
    "### pie chart\n",
    "sizes = [25, 20, 45, 10]\n",
    "<br>\n",
    "labels = [\"Cats\", \"Dogs\", \"Tigers\", \"Goats\"]\n",
    "<br>\n",
    "plt.pie(sizes, labels = labels, autopct = \"%.2f\")\n",
    "<br>\n",
    "plt.axes().set_aspect(\"equal\")\n",
    "<br>\n",
    "plt.show()"
   ]
  },
  {
   "cell_type": "code",
   "execution_count": null,
   "metadata": {},
   "outputs": [],
   "source": [
    "#copy here"
   ]
  },
  {
   "cell_type": "code",
   "execution_count": null,
   "metadata": {},
   "outputs": [],
   "source": []
  },
  {
   "cell_type": "code",
   "execution_count": null,
   "metadata": {},
   "outputs": [],
   "source": []
  },
  {
   "cell_type": "code",
   "execution_count": null,
   "metadata": {},
   "outputs": [],
   "source": []
  },
  {
   "cell_type": "code",
   "execution_count": null,
   "metadata": {},
   "outputs": [],
   "source": []
  },
  {
   "cell_type": "code",
   "execution_count": null,
   "metadata": {},
   "outputs": [],
   "source": []
  },
  {
   "cell_type": "code",
   "execution_count": null,
   "metadata": {},
   "outputs": [],
   "source": []
  },
  {
   "cell_type": "code",
   "execution_count": null,
   "metadata": {},
   "outputs": [],
   "source": []
  }
 ],
 "metadata": {
  "kernelspec": {
   "display_name": "Python 3",
   "language": "python",
   "name": "python3"
  },
  "language_info": {
   "codemirror_mode": {
    "name": "ipython",
    "version": 3
   },
   "file_extension": ".py",
   "mimetype": "text/x-python",
   "name": "python",
   "nbconvert_exporter": "python",
   "pygments_lexer": "ipython3",
   "version": "3.7.0b5"
  }
 },
 "nbformat": 4,
 "nbformat_minor": 2
}
