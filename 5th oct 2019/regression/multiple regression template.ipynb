{
 "cells": [
  {
   "cell_type": "markdown",
   "metadata": {
    "_cell_guid": "ad37c74e-a8e6-4657-a375-8f1a114737fe",
    "_uuid": "962ee0ba7d05f82a260c60c7c6d7c42453e924ee"
   },
   "source": [
    "This post we look at some pseudo code for simple linear regression and multiple linear regression <br>\n",
    "This is continuation of the [simple linear regression post](https://www.kaggle.com/rakend/simple-linear-regression-using-gradient-descent)"
   ]
  },
  {
   "cell_type": "markdown",
   "metadata": {
    "_cell_guid": "436886ba-b78a-452b-9056-0e5be51ac5c4",
    "_uuid": "e2de4699a4bfe748ab117cd0e4c94ca663864be2"
   },
   "source": [
    "Take home from this pseudo code can be observing how the vector size of the feature vector and parameter vector changes for SLR and MLR.  <br>\n",
    "This can be little confusing and frustating at times "
   ]
  },
  {
   "cell_type": "markdown",
   "metadata": {
    "_cell_guid": "1f645a56-c97d-436e-a412-4622ab92f4f8",
    "_uuid": "9f0129b3e72c9e1c97a44ea7fca3f3b7b822f33d"
   },
   "source": [
    "![](https://drive.google.com/uc?id=1LIaxxO9MuJUvKSruCkzxBHaY_upb0LI5)"
   ]
  },
  {
   "cell_type": "markdown",
   "metadata": {
    "_cell_guid": "81eef456-87a6-429f-80a3-2badb18139cd",
    "_uuid": "faefffc3cd1af275138cb57b3c3f7c7b93cd5b0f"
   },
   "source": [
    "![](https://drive.google.com/uc?id=14HYJy_z_hJjZiNIQ_c81Ec3ePcg4cgG2)\n"
   ]
  },
  {
   "cell_type": "markdown",
   "metadata": {
    "_cell_guid": "ecbe21d3-5d89-41e0-ab91-0423424ee2cd",
    "_uuid": "aeb08fbbe1ca9166421474cc54619e1fffb6bdbb"
   },
   "source": [
    "![](https://drive.google.com/uc?id=1hGL590sluMBRr_5tntG8Qo_PV7VxaNo3)"
   ]
  },
  {
   "cell_type": "markdown",
   "metadata": {
    "_cell_guid": "668a9c9d-7dd5-44ba-9687-a14be913d729",
    "_uuid": "8373707b00d449eefc3e74e0eaac38d43de39b78"
   },
   "source": [
    "![](https://drive.google.com/uc?id=1rFbWrjPfT1CMoCw9hR9C6QWtwAvPPHAt)"
   ]
  },
  {
   "cell_type": "markdown",
   "metadata": {
    "_cell_guid": "dfdb21ae-3137-42c1-bb42-39c3ef4127f2",
    "_uuid": "803f1c1c965f9b024e6004b92f485114a1ebd6dd"
   },
   "source": [
    "![](https://drive.google.com/uc?id=1Y6XiDWfzdCsUkVytA_7wcFrw40FAON05)"
   ]
  },
  {
   "cell_type": "markdown",
   "metadata": {
    "_cell_guid": "efa17fa9-db2c-4654-a7b6-720f9b2de9f0",
    "_uuid": "75115c2feb15e5aa405ca03a9b6392e94fac044a"
   },
   "source": [
    "![](https://drive.google.com/uc?id=15CR0HEwHlVqZHFg66uY0dHkt5tKgqJ9k)"
   ]
  },
  {
   "cell_type": "markdown",
   "metadata": {
    "_cell_guid": "4a188c93-e5dd-491e-98b4-78711ed70f0f",
    "_uuid": "3530a71806ad5ee5504fd0fbd680eb7c42ee7eda",
    "collapsed": true
   },
   "source": [
    "![](https://drive.google.com/uc?id=1u6kHk2ujLmFZG89Wo8h-n27OSp2JR_CG)"
   ]
  },
  {
   "cell_type": "markdown",
   "metadata": {
    "_cell_guid": "669d76a5-a501-4882-afcf-746c44b79cc2",
    "_uuid": "38187b8b7112b33d0c98ac04df1478e80c9026a2",
    "collapsed": true
   },
   "source": [
    "![](https://drive.google.com/uc?id=1OAI7GmHHTCwOGpxVUaZQyi7xnw_nNM4U)"
   ]
  },
  {
   "cell_type": "markdown",
   "metadata": {
    "_cell_guid": "0682a69b-d063-4318-8a61-341c0e57acc7",
    "_uuid": "949b9b353948edcf46fc0a0bf4e3492cf7761269",
    "collapsed": true
   },
   "source": [
    "![](https://drive.google.com/uc?id=1ENyf4CtlHwFshz8szsEvsO6qFvbsgNv8)"
   ]
  },
  {
   "cell_type": "markdown",
   "metadata": {
    "_cell_guid": "e1e53bd1-9d58-45ca-b8ce-d637ea0c14c0",
    "_uuid": "d09af23c0c7bfbf02a9bb64b9eec43ea788cf7f5"
   },
   "source": [
    "### Working"
   ]
  },
  {
   "cell_type": "markdown",
   "metadata": {
    "_cell_guid": "93d1f9d0-3bc9-4963-8cbb-b8f4b7c48356",
    "_uuid": "4790acf3382caaff54457e6853f414ceeb02e2bd"
   },
   "source": [
    "Like, in the earlier post, here too we'll try solving MLR from the scratch and also from sci-kit learn package. <br>\n",
    "Now we'll jump in to see how "
   ]
  },
  {
   "cell_type": "raw",
   "metadata": {
    "_cell_guid": "230d8c3d-7958-4759-a750-0f593b54d22a",
    "_uuid": "5d2e0ccf60cce0aab321b5e3c8f5d46340d1f4d4",
    "collapsed": true
   },
   "source": [
    "import libraries\n",
    "\n",
    "########################################\n",
    "import pandas as pd\n",
    "import matplotlib.pyplot as plt\n",
    "import numpy as np\n",
    "########################################"
   ]
  },
  {
   "cell_type": "code",
   "execution_count": null,
   "metadata": {},
   "outputs": [],
   "source": [
    "### import libraries #####\n",
    "\n"
   ]
  },
  {
   "cell_type": "markdown",
   "metadata": {
    "_cell_guid": "df7d84d2-fd1e-4065-ab3d-69b8e36f25da",
    "_uuid": "cfafc2fadda4b0832e63ebf6ebc2ae95a835dd32",
    "collapsed": true
   },
   "source": [
    "import dataset\n",
    "\n",
    "##########################################\n",
    "data = pd.read_csv('50_Startups.csv')\n",
    "data.head()\n",
    "##########################################"
   ]
  },
  {
   "cell_type": "code",
   "execution_count": 156,
   "metadata": {},
   "outputs": [],
   "source": [
    "#### import dataset  #####\n",
    "\n"
   ]
  },
  {
   "cell_type": "raw",
   "metadata": {
    "_cell_guid": "8cf16e83-234a-46d5-af1b-6536c0d25e28",
    "_uuid": "71e418adb0c58ae1cbbbe605891a3bf4ff6d09f1"
   },
   "source": [
    "seperate dependent and independent variables\n",
    "\n",
    "##########################################\n",
    "x = data.iloc[:,:-1].values\n",
    "y = data.iloc[:,4].values\n",
    "##########################################"
   ]
  },
  {
   "cell_type": "code",
   "execution_count": null,
   "metadata": {},
   "outputs": [],
   "source": [
    "#### separate dependent and independent variable #####\n",
    "\n",
    "\n",
    "#### show x and y\n",
    "\n",
    "\n",
    "#### reshaping the dependent variable (50,) -> (50,1)\n",
    "y = y.reshape((y.shape[0],1))"
   ]
  },
  {
   "cell_type": "markdown",
   "metadata": {
    "_cell_guid": "db20d4d9-5163-4307-a9dc-c42517343874",
    "_uuid": "93021db4e32ab0157eaeebaa4dc1f73191b376af",
    "collapsed": true
   },
   "source": [
    "# Taking care of String variable in Dataset\n"
   ]
  },
  {
   "cell_type": "code",
   "execution_count": null,
   "metadata": {
    "_cell_guid": "3118e82d-97a2-456e-9a42-ea177328f79c",
    "_uuid": "4f758b7d564d6be34a0f14d16b750b5ae3084872"
   },
   "outputs": [],
   "source": [
    "look in the dataset and find row of the string variable\n",
    "\n",
    "###################\n",
    "x[:,3]\n",
    "##################"
   ]
  },
  {
   "cell_type": "code",
   "execution_count": 157,
   "metadata": {
    "_cell_guid": "234280e0-4b85-4395-ad02-0e19a4d3c9fc",
    "_uuid": "c9f681ebce4698e4f25c86a7096e3f116a6f21c3"
   },
   "outputs": [],
   "source": [
    "#### print string variable\n",
    "\n"
   ]
  },
  {
   "cell_type": "code",
   "execution_count": null,
   "metadata": {
    "_cell_guid": "9a246259-2b84-4ea1-986a-91c04f7f2354",
    "_uuid": "5e92d45061a21b8db31f0aaccd9cc6e7c8b1c2f7"
   },
   "outputs": [],
   "source": [
    "from sklearn.preprocessing import LabelBinarizer\n",
    "encoder = LabelBinarizer()\n",
    "aa = encoder.fit_transform(x[:,3])\n",
    "aa"
   ]
  },
  {
   "cell_type": "markdown",
   "metadata": {},
   "source": [
    "# we need to remove string variable from dataset"
   ]
  },
  {
   "cell_type": "code",
   "execution_count": 127,
   "metadata": {
    "_cell_guid": "c4bbd14b-2baf-4b81-b1b4-42846c33e41a",
    "_uuid": "df26fdf75ab10b073e1fe0aa2d61352a419e3219"
   },
   "outputs": [],
   "source": [
    "x = x[:,:-1]"
   ]
  },
  {
   "cell_type": "markdown",
   "metadata": {},
   "source": [
    "# concatenate the categorical variable and dataset"
   ]
  },
  {
   "cell_type": "code",
   "execution_count": 158,
   "metadata": {
    "_cell_guid": "d0165b2c-d5c1-4ee9-823a-c8a20cc5a10d",
    "_uuid": "981bb8ac75fe703efda279aabdb051d728e2a953"
   },
   "outputs": [],
   "source": [
    "x = np.concatenate((x,aa),axis=1)\n",
    "\n",
    "### print x"
   ]
  },
  {
   "cell_type": "markdown",
   "metadata": {
    "_uuid": "32d0b98950f31174ea1c52028d56b898cd9ab13f"
   },
   "source": [
    "#  Remove Dummy variable trap "
   ]
  },
  {
   "cell_type": "code",
   "execution_count": 159,
   "metadata": {
    "_cell_guid": "db26087f-1b03-47a2-abff-32706f5bd747",
    "_uuid": "3d3dcd1cd71336674f629f148f524338943b251d"
   },
   "outputs": [],
   "source": [
    "x = x[:,:-1]"
   ]
  },
  {
   "cell_type": "markdown",
   "metadata": {
    "_cell_guid": "002c0acb-6744-4886-84a5-faf6a03bf3c2",
    "_uuid": "b70b3ca740e6e2c97e57156b50fc0ba7ef71fc0c"
   },
   "source": [
    "## Standard scaler \n",
    "$ z=x-mean(x)/SD(x) $\n"
   ]
  },
  {
   "cell_type": "code",
   "execution_count": 130,
   "metadata": {
    "_uuid": "c3f46dfca8517783195edb00cc39daa51db0e785"
   },
   "outputs": [],
   "source": [
    "from sklearn.preprocessing import StandardScaler\n",
    "sc_x = StandardScaler()\n",
    "sc_y = StandardScaler()\n",
    "x = sc_x.fit_transform(x)\n",
    "y = sc_y.fit_transform(y)"
   ]
  },
  {
   "cell_type": "code",
   "execution_count": 166,
   "metadata": {
    "_uuid": "0a052d7ec4915a0fb52c231645ca0d8b70099359"
   },
   "outputs": [],
   "source": [
    "from sklearn.model_selection import train_test_split\n",
    "x_train,x_test,y_train,y_test=train_test_split(x,y,test_size=0.2,random_state=0)\n",
    "\n",
    "\n",
    "#### reshaping since we need (m,) dimensions to feed in the model\n",
    "y_train = y_train.reshape((y_train.shape[0],))\n",
    "\n",
    "\n",
    "#### print the shape of the x_train, y_train, x_test and y_test"
   ]
  },
  {
   "cell_type": "markdown",
   "metadata": {},
   "source": [
    "# adding one layer in x_train and x_test for theta_0 * 1"
   ]
  },
  {
   "cell_type": "code",
   "execution_count": 167,
   "metadata": {
    "_cell_guid": "db26087f-1b03-47a2-abff-32706f5bd747",
    "_uuid": "3d3dcd1cd71336674f629f148f524338943b251d"
   },
   "outputs": [],
   "source": [
    "one = np.ones((40,1))\n",
    "x_train = np.concatenate((one,x_train),axis=1)\n"
   ]
  },
  {
   "cell_type": "code",
   "execution_count": 168,
   "metadata": {},
   "outputs": [],
   "source": [
    "one = np.ones((10,1))\n",
    "x_test = np.concatenate((one,x_test),axis=1)"
   ]
  },
  {
   "cell_type": "code",
   "execution_count": 169,
   "metadata": {
    "_cell_guid": "dcb2ab87-d66c-4c5d-94d8-b0da7f168f7b",
    "_uuid": "dc584cbe588bb8922617a70e0797c1286889aff6"
   },
   "outputs": [],
   "source": [
    "### print shape of the x_train and x_test\n",
    "\n"
   ]
  },
  {
   "cell_type": "markdown",
   "metadata": {
    "_cell_guid": "068ae9e4-a496-4e18-9859-83b6ff1c417b",
    "_uuid": "18704e24234371a1650fdff93ea7cf135bb460e1"
   },
   "source": [
    "### Trying from the scratch"
   ]
  },
  {
   "cell_type": "code",
   "execution_count": null,
   "metadata": {
    "_cell_guid": "caba66fc-1579-419a-a845-3e0c1cf279a4",
    "_uuid": "e08b5d20ed1e92a0d6d4d4484beed5f0c85bd55d"
   },
   "outputs": [],
   "source": []
  },
  {
   "cell_type": "code",
   "execution_count": 134,
   "metadata": {
    "_cell_guid": "3e157a0e-facf-4923-99fa-b009f648bbf3",
    "_uuid": "42c1945b2b86eb4818fa7065192932cae2da851d"
   },
   "outputs": [
    {
     "name": "stdout",
     "output_type": "stream",
     "text": [
      "(6,)\n"
     ]
    }
   ],
   "source": [
    "# Parameters required for Gradient Descent\n",
    "alpha = 0.0001   #learning rate\n",
    "m = y.size  #no. of samples\n",
    "np.random.seed(10)\n",
    "theta = np.random.rand(6)\n",
    "print(theta.shape)#initializing theta with some random values"
   ]
  },
  {
   "cell_type": "code",
   "execution_count": 135,
   "metadata": {
    "_cell_guid": "00d44296-c8d8-40f2-a47d-b19182047e63",
    "_uuid": "585c89ceed3d327a20739bf91e2f64c47e96f8b7"
   },
   "outputs": [],
   "source": [
    "def gradient_descent(x, y, m, theta, alpha):\n",
    "    cost_list = []   #to record all cost values to this list\n",
    "    theta_list = []  #to record all theta_0 and theta_1 values to this list \n",
    "    prediction_list = []\n",
    "    run = True\n",
    "    cost_list.append(1e10)    #we append some large value to the cost list\n",
    "    i=0\n",
    "    while run:\n",
    "        prediction = np.dot(x, theta)   #predicted y values theta_0*x0+theta_1*x1\n",
    "        prediction_list.append(prediction)\n",
    "        error = prediction - y\n",
    "        cost = 1/(2*m) * np.dot(error.T, error)   #  (1/2m)*sum[(error)^2]\n",
    "        cost_list.append(cost)\n",
    "        theta = theta - (alpha * (1/m) * np.dot(x.T, error))   # alpha * (1/m) * sum[error*x]\n",
    "        theta_list.append(theta)\n",
    "        if cost_list[i]-cost_list[i+1] < 1e-9:   #checking if the change in cost function is less than 10^(-9)\n",
    "            run = False\n",
    "\n",
    "        i+=1\n",
    "    cost_list.pop(0)   # Remove the large number we added in the begining \n",
    "    return prediction_list, cost_list, theta_list"
   ]
  },
  {
   "cell_type": "code",
   "execution_count": 136,
   "metadata": {
    "_cell_guid": "81a811fa-86cf-4636-b0a5-4d022a2ce6c8",
    "_uuid": "825e8b6cca460df04058da5a84c032ead81266eb"
   },
   "outputs": [],
   "source": [
    "prediction_list, cost_list, theta_list = gradient_descent(x_train, y_train, 40, theta, alpha)\n",
    "theta = theta_list[-1]"
   ]
  },
  {
   "cell_type": "code",
   "execution_count": 137,
   "metadata": {},
   "outputs": [
    {
     "data": {
      "text/plain": [
       "array([-0.02030651,  0.8703408 ,  0.02705753,  0.1204007 , -0.01042683,\n",
       "       -0.02313893])"
      ]
     },
     "execution_count": 137,
     "metadata": {},
     "output_type": "execute_result"
    }
   ],
   "source": [
    "theta"
   ]
  },
  {
   "cell_type": "code",
   "execution_count": 138,
   "metadata": {},
   "outputs": [
    {
     "data": {
      "text/plain": [
       "0.025641664494810132"
      ]
     },
     "execution_count": 138,
     "metadata": {},
     "output_type": "execute_result"
    }
   ],
   "source": [
    "cost_list[-1]"
   ]
  },
  {
   "cell_type": "code",
   "execution_count": 139,
   "metadata": {
    "_cell_guid": "295de632-5a20-4021-9b2c-12c26b963d7f",
    "_uuid": "cd718c3df6957b797880355a2eab620d1156ea36"
   },
   "outputs": [
    {
     "data": {
      "image/png": "[encoded data removed]",
      "text/plain": [
       "<Figure size 432x288 with 1 Axes>"
      ]
     },
     "metadata": {
      "needs_background": "light"
     },
     "output_type": "display_data"
    }
   ],
   "source": [
    "plt.title('Cost Function J', size = 30)\n",
    "plt.xlabel('No. of iterations', size=20)\n",
    "plt.ylabel('Cost', size=20)\n",
    "plt.plot(cost_list)\n",
    "plt.show()"
   ]
  },
  {
   "cell_type": "markdown",
   "metadata": {
    "_cell_guid": "789ae2fd-5ccc-4df7-9eae-f9864ec130de",
    "_uuid": "61692ae057640661a36f0404c41b7716f69504e4"
   },
   "source": [
    "Using equation of hyperplane"
   ]
  },
  {
   "cell_type": "code",
   "execution_count": 144,
   "metadata": {
    "_cell_guid": "9b78fa26-0d20-4da2-9d24-475978be28f9",
    "_uuid": "b2cf80104c0ee9330383a51057dc0e8b054f46bf"
   },
   "outputs": [
    {
     "data": {
      "text/plain": [
       "array([-0.22602964,  0.50690313,  0.50095408, -1.00635916,  1.65647133,\n",
       "        0.11988024, -1.10115589, -0.32954444,  0.05186803,  1.38833188])"
      ]
     },
     "execution_count": 144,
     "metadata": {},
     "output_type": "execute_result"
    }
   ],
   "source": [
    "yp = theta[0] + theta[1]*x_test[:,1] + theta[2]*x_test[:,2] + theta[3]*x_test[:,3] + theta[4]*x_test[:,4] + theta[5]*x_test[:,5]\n",
    "yp"
   ]
  },
  {
   "cell_type": "code",
   "execution_count": 150,
   "metadata": {},
   "outputs": [
    {
     "data": {
      "text/plain": [
       "array([-0.40992179, -0.56852628, -0.0700905 , -0.50652513,  0.37517594,\n",
       "        1.17289983,  0.91832169, -1.59504028, -1.67634755, -0.22480771,\n",
       "        0.83625615, -0.39596941, -0.37284095,  0.11651215, -1.06538768,\n",
       "        0.10940688, -1.28061595,  1.02656634,  0.38620074, -0.24733058,\n",
       "        1.2469173 ,  0.498345  , -0.92098084, -1.60016975,  1.94420534,\n",
       "        0.38366599, -0.66915261, -0.02490429,  1.08972171, -0.0870742 ,\n",
       "       -0.91382967,  0.21231842,  0.0677685 ,  1.0123825 , -0.76570116,\n",
       "       -1.3531393 ,  1.52486983,  2.03252447, -1.6271045 , -1.15524375])"
      ]
     },
     "execution_count": 150,
     "metadata": {},
     "output_type": "execute_result"
    }
   ],
   "source": [
    "y_train_pred = theta[0] + theta[1]*x_train[:,1] + theta[2]*x_train[:,2] + theta[3]*x_train[:,3] + theta[4]*x_train[:,4] + theta[5]*x_train[:,5]\n",
    "y_train_pred"
   ]
  },
  {
   "cell_type": "code",
   "execution_count": null,
   "metadata": {},
   "outputs": [],
   "source": []
  },
  {
   "cell_type": "code",
   "execution_count": null,
   "metadata": {},
   "outputs": [],
   "source": []
  },
  {
   "cell_type": "code",
   "execution_count": 153,
   "metadata": {},
   "outputs": [
    {
     "data": {
      "text/plain": [
       "[<matplotlib.lines.Line2D at 0x10dba4f0ac8>]"
      ]
     },
     "execution_count": 153,
     "metadata": {},
     "output_type": "execute_result"
    },
    {
     "data": {
      "image/png": "[encoded data removed]",
      "text/plain": [
       "<Figure size 432x288 with 1 Axes>"
      ]
     },
     "metadata": {
      "needs_background": "light"
     },
     "output_type": "display_data"
    }
   ],
   "source": [
    "plt.plot(y_test)\n",
    "plt.plot(yp)"
   ]
  },
  {
   "cell_type": "code",
   "execution_count": 154,
   "metadata": {},
   "outputs": [
    {
     "data": {
      "text/plain": [
       "[<matplotlib.lines.Line2D at 0x10e3b84a588>]"
      ]
     },
     "execution_count": 154,
     "metadata": {},
     "output_type": "execute_result"
    },
    {
     "data": {
      "image/png": "[encoded data removed]",
      "text/plain": [
       "<Figure size 432x288 with 1 Axes>"
      ]
     },
     "metadata": {
      "needs_background": "light"
     },
     "output_type": "display_data"
    }
   ],
   "source": [
    "plt.plot(y_train)\n",
    "plt.plot(y_train_pred)"
   ]
  },
  {
   "cell_type": "code",
   "execution_count": 155,
   "metadata": {},
   "outputs": [
    {
     "name": "stdout",
     "output_type": "stream",
     "text": [
      "0.23457580324598792\n"
     ]
    }
   ],
   "source": [
    "#root mean squared error\n",
    "from sklearn.metrics import mean_squared_error\n",
    "def rmsle(y, y_pred):\n",
    "    return np.sqrt(mean_squared_error(y, y_pred))\n",
    "print(rmsle(y_test, yp))"
   ]
  },
  {
   "cell_type": "code",
   "execution_count": null,
   "metadata": {},
   "outputs": [],
   "source": []
  }
 ],
 "metadata": {
  "kernelspec": {
   "display_name": "Python 3",
   "language": "python",
   "name": "python3"
  },
  "language_info": {
   "codemirror_mode": {
    "name": "ipython",
    "version": 3
   },
   "file_extension": ".py",
   "mimetype": "text/x-python",
   "name": "python",
   "nbconvert_exporter": "python",
   "pygments_lexer": "ipython3",
   "version": "3.7.2"
  }
 },
 "nbformat": 4,
 "nbformat_minor": 1
}
